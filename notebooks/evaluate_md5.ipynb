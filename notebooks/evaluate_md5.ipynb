{
 "cells": [
  {
   "cell_type": "code",
   "execution_count": 14,
   "metadata": {},
   "outputs": [],
   "source": [
    "import json\n",
    "import hashlib\n",
    "import os"
   ]
  },
  {
   "cell_type": "code",
   "execution_count": 15,
   "metadata": {},
   "outputs": [],
   "source": [
    "folder = \"../test_annotations\""
   ]
  },
  {
   "cell_type": "code",
   "execution_count": 16,
   "metadata": {},
   "outputs": [],
   "source": [
    "#get all the json files in the folder\n",
    "json_files = [f for f in os.listdir(folder) if f.endswith('.json')]\n"
   ]
  },
  {
   "cell_type": "code",
   "execution_count": 17,
   "metadata": {},
   "outputs": [
    {
     "name": "stdout",
     "output_type": "stream",
     "text": [
      "['088667040c89dfd9fc1b70cf489ff4aa', '088667040c89dfd9fc1b70cf489ff4aa', '088667040c89dfd9fc1b70cf489ff4aa', '088667040c89dfd9fc1b70cf489ff4aa', '088667040c89dfd9fc1b70cf489ff4aa']\n"
     ]
    }
   ],
   "source": [
    "#map the list of files to the list of json objects\n",
    "json_objects = list(map(lambda x: json.load(open(os.path.join(folder, x))), json_files))\n",
    "\n",
    "#stringify the json objects\n",
    "json_strings = list(map(lambda x: json.dumps(x, sort_keys=True), json_objects))\n",
    "\n",
    "#has with md5\n",
    "hashes = list(map(lambda x: hashlib.md5(x.encode()).hexdigest(), json_strings))\n",
    "\n",
    "print(hashes)"
   ]
  },
  {
   "cell_type": "code",
   "execution_count": null,
   "metadata": {},
   "outputs": [],
   "source": []
  }
 ],
 "metadata": {
  "kernelspec": {
   "display_name": ".venv",
   "language": "python",
   "name": "python3"
  },
  "language_info": {
   "codemirror_mode": {
    "name": "ipython",
    "version": 3
   },
   "file_extension": ".py",
   "mimetype": "text/x-python",
   "name": "python",
   "nbconvert_exporter": "python",
   "pygments_lexer": "ipython3",
   "version": "3.12.2"
  }
 },
 "nbformat": 4,
 "nbformat_minor": 2
}
